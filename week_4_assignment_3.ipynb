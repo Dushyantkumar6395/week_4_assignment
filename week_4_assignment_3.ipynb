{
 "cells": [
  {
   "cell_type": "code",
   "execution_count": 7,
   "id": "26e860d7-5d6f-4b56-bf10-d15906490db4",
   "metadata": {},
   "outputs": [
    {
     "data": {
      "text/plain": [
       "'12000'"
      ]
     },
     "execution_count": 7,
     "metadata": {},
     "output_type": "execute_result"
    }
   ],
   "source": [
    "# Q1. What is Abstraction in OOps? Explain with an example.\n",
    "# Answer:\n",
    "# Abstraction:Your car is a great example of abstraction. You can start a car by turning the key or pressing the start button.\n",
    "#             You don't need to know how the engine is getting started, what all components your car has. The car\n",
    "#               internal implementation and complex logic is completely hidden from the user.\n",
    "# For example:\n",
    "import abc\n",
    "class person:\n",
    "    \n",
    "    @abc.abstractmethod\n",
    "    def person_name(self):\n",
    "        pass\n",
    "    \n",
    "    @abc.abstractmethod\n",
    "    def person_fathers_name(self):\n",
    "        pass\n",
    "    \n",
    "    @abc.abstractmethod\n",
    "    def person_salary(self):\n",
    "        pass\n",
    "    \n",
    "    @abc.abstractmethod\n",
    "    def person_mobile_num(self):\n",
    "        pass\n",
    "    \n",
    "class person_details(person):\n",
    "    \n",
    "    def person_name(self):\n",
    "        return \"Dushyant\"\n",
    "    def person_fathers_name(self):\n",
    "        return \"Dheersingh\"\n",
    "\n",
    "class person_details1(person):\n",
    "    \n",
    "    def person_mobile_num(self):\n",
    "        return \"6395928960\"\n",
    "    \n",
    "    def person_salary(self):\n",
    "        return \"12000\"\n",
    "    \n",
    "\n",
    "p = person_details()  \n",
    "p.person_fathers_name()  # ---> output = 'Dheersingh'\n",
    "p.person_name()  # ---> output = 'Dushyant'\n",
    "\n",
    "\n",
    "p1 = person_details1()\n",
    "p1.person_mobile_num()  # ---> output = '6395928960'\n",
    "p1.person_salary()  # ---> output = '12000'\n",
    "    "
   ]
  },
  {
   "cell_type": "code",
   "execution_count": 18,
   "id": "162b1408-3611-48dd-8dba-55565fb8b203",
   "metadata": {},
   "outputs": [
    {
     "data": {
      "text/plain": [
       "2000"
      ]
     },
     "execution_count": 18,
     "metadata": {},
     "output_type": "execute_result"
    }
   ],
   "source": [
    "# Q2. Differentiate between Abstraction and Encapsulation. Explain with an example.\n",
    "# Answer:\n",
    "# Difference:   Abstraction is a way of representing some specific data. Encapsulation is a way of hiding the\n",
    "#                complexity of something and exposing only the parts you wish to expose. For example, \n",
    "#              if you have a class that has one or more private fields that you use to store the data, \n",
    "#              then you are in encapsulation. \n",
    "# For example:\n",
    "# Example of Abstraction:\n",
    "import abc\n",
    "class person:\n",
    "    \n",
    "    @abc.abstractmethod\n",
    "    def person_name(self):\n",
    "        pass\n",
    "    \n",
    "    @abc.abstractmethod\n",
    "    def person_fathers_name(self):\n",
    "        pass\n",
    "    \n",
    "    @abc.abstractmethod\n",
    "    def person_salary(self):\n",
    "        pass\n",
    "    \n",
    "    @abc.abstractmethod\n",
    "    def person_mobile_num(self):\n",
    "        pass\n",
    "    \n",
    "class person_details(person):\n",
    "    \n",
    "    def person_name(self):\n",
    "        return \"Dushyant\"\n",
    "    def person_fathers_name(self):\n",
    "        return \"Dheersingh\"\n",
    "\n",
    "class person_details1(person):\n",
    "    \n",
    "    def person_mobile_num(self):\n",
    "        return \"6395928960\"\n",
    "    \n",
    "    def person_salary(self):\n",
    "        return \"12000\"\n",
    "    \n",
    "\n",
    "p = person_details()  \n",
    "p.person_fathers_name()  # ---> output = 'Dheersingh'\n",
    "p.person_name()  # ---> output = 'Dushyant'\n",
    "\n",
    "\n",
    "p1 = person_details1()\n",
    "p1.person_mobile_num()  # ---> output = '6395928960'\n",
    "p1.person_salary()  # ---> output = '12000'\n",
    "\n",
    "\n",
    "# Example of Encapsulation:\n",
    "\n",
    "class bank_account:\n",
    "    \n",
    "    def __init__(self, balance):\n",
    "        self.__balance = balance\n",
    "        \n",
    "    def deposite(self, amount):\n",
    "        self.__balance = self.__balance + amount\n",
    "        \n",
    "    def withdraw(self, amount):\n",
    "        if (self.__balance >= amount):\n",
    "            self.__balance = self.__balance - amount\n",
    "            return True\n",
    "        else:\n",
    "            return False\n",
    "        \n",
    "    def get_balance(self):\n",
    "        return self.__balance\n",
    "    \n",
    "p = bank_account(1000)\n",
    "p.deposite(5000)\n",
    "p.get_balance() # output = 6000\n",
    "p.withdraw(4000) # True\n",
    "p.get_balance() # output = 2000\n",
    "# p.balance # output  = error\n",
    "# p._bank_account__balance # you can access balance by this methode\n"
   ]
  },
  {
   "cell_type": "code",
   "execution_count": 19,
   "id": "20459691-72ab-42ab-b100-2a5bc84c5a55",
   "metadata": {},
   "outputs": [],
   "source": [
    "# Q3. What is abc module in python? Why is it used?\n",
    "# Answer:\n",
    "# abc module:  This module provides the infrastructure for defining abstract base classes (ABCs) in Python,"
   ]
  },
  {
   "cell_type": "code",
   "execution_count": 20,
   "id": "3c8af461-9229-4b64-9bd4-d5d515ca9c69",
   "metadata": {},
   "outputs": [],
   "source": [
    "# Q4. How can we achieve data abstraction?\n",
    "# Answer:\n",
    "#     We can define an abstract method using @abstractmethod keyword on the top of a method.\n",
    "#     We can use abc module of python to achieve data abstraction in python. To define an abstract method in \n",
    "#     python we can import abstractmethod from the abc module of python.\n",
    "# example above in Q1."
   ]
  },
  {
   "cell_type": "code",
   "execution_count": null,
   "id": "1fdb05a6-70a1-41c0-b733-95c8d3d13272",
   "metadata": {},
   "outputs": [],
   "source": [
    "# Q5. Can we create an instance of an abstract class? Explain your answer.\n",
    "# Answer:\n",
    "#  it is not possible to create an instance of an abstract class.\n",
    "# An abstract class is a class that cannot be instantiated, but it can be subclassed. The purpose of an abstract\n",
    "# class is to provide a common interface for classes that share similar characteristics.You can create an instance \n",
    "# of a subclass of an abstract class, if the subclass is not also abstract. The subclass must provide implementations\n",
    "# for all of the abstract methods specified in the abstract class."
   ]
  }
 ],
 "metadata": {
  "kernelspec": {
   "display_name": "Python 3 (ipykernel)",
   "language": "python",
   "name": "python3"
  },
  "language_info": {
   "codemirror_mode": {
    "name": "ipython",
    "version": 3
   },
   "file_extension": ".py",
   "mimetype": "text/x-python",
   "name": "python",
   "nbconvert_exporter": "python",
   "pygments_lexer": "ipython3",
   "version": "3.10.6"
  }
 },
 "nbformat": 4,
 "nbformat_minor": 5
}
