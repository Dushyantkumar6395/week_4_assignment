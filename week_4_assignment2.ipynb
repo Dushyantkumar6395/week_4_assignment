{
 "cells": [
  {
   "cell_type": "code",
   "execution_count": 25,
   "id": "75f36bb9-655d-432b-afd8-9e5ba194d848",
   "metadata": {},
   "outputs": [
    {
     "data": {
      "text/plain": [
       "2500"
      ]
     },
     "execution_count": 25,
     "metadata": {},
     "output_type": "execute_result"
    }
   ],
   "source": [
    "# Q1: Explain Class and Object with respect to Object-Oriented Programming. Give a suitable example.\n",
    "# Answer:\n",
    "\n",
    "# Object − Objects have states and behaviors. Example: A dog has states - color, name, breed as well as \n",
    "#          behaviors – wagging the tail, barking, eating. An object is an instance of a class. \n",
    "# Class − A class can be defined as a template/blueprint that describes the behavior/state that the object of its \n",
    "#        type support.\n",
    "# For example:\n",
    "# class\n",
    "class Employee:\n",
    "    \n",
    "    def __init__(self, employee_id, employee_name,employee_salary):\n",
    "        self.employee_id = employee_id\n",
    "        self.employee_name = employee_name\n",
    "        self.employee_salary = employee_salary\n",
    "        \n",
    "#object\n",
    "pw = Employee(120, \"Dushyant\", 2500)\n",
    "pw.employee_id  # ---> this gives output  120\n",
    "pw.employee_name # ---> this gives output  Dushyant\n",
    "pw.employee_salary  # ---> this gives output  2500\n",
    "        \n",
    "    \n",
    "  "
   ]
  },
  {
   "cell_type": "code",
   "execution_count": 26,
   "id": "176dbf49-8b98-4cb2-b386-3573e28f8d01",
   "metadata": {},
   "outputs": [],
   "source": [
    "# Q2. Name the four pillars of OOPs.\n",
    "# Answer:\n",
    "# 1.Abstraction.\n",
    "# 2.Encapsulation.\n",
    "# 3.Inheritance.\n",
    "# 4.Polymorphism"
   ]
  },
  {
   "cell_type": "code",
   "execution_count": 27,
   "id": "2e9b213a-2df7-45bb-a835-50d6795948e0",
   "metadata": {},
   "outputs": [
    {
     "name": "stdout",
     "output_type": "stream",
     "text": [
      "Hey, My name is  Dushyant\n"
     ]
    }
   ],
   "source": [
    "# Q3. Explain why the __init__() function is used. Give a suitable example.\n",
    "# Answer:\n",
    "#   __init__ is a special python method that runs whenever a new object is created. \n",
    "#   These types of functions are used to initialize the attributes of that class\n",
    "# For example:\n",
    "class person:\n",
    "        \n",
    "        def __init__(self, name):\n",
    "            \n",
    "            self.name = name\n",
    "            \n",
    "        def say_it(self):\n",
    "            \n",
    "            print(\"Hey, My name is \", self.name)\n",
    "            \n",
    "p = person(\"Dushyant\")\n",
    "p.say_it()"
   ]
  },
  {
   "cell_type": "code",
   "execution_count": 28,
   "id": "85dea1c2-e787-4905-8cd1-c83b5723f556",
   "metadata": {},
   "outputs": [],
   "source": [
    "# Q4. Why self is used in OOPs?\n",
    "# Answer:\n",
    "# self: The self variable is used to represent the instance of the class which is often used in object-oriented programming.\n",
    "#        It works as a reference to the object. Python uses the self parameter to refer to instance attributes and methods\n",
    "#       of the class."
   ]
  },
  {
   "cell_type": "code",
   "execution_count": 11,
   "id": "646fed6a-1d3b-43fe-a8c8-22f320e5d43e",
   "metadata": {},
   "outputs": [
    {
     "data": {
      "text/plain": [
       "'This is a class1 '"
      ]
     },
     "execution_count": 11,
     "metadata": {},
     "output_type": "execute_result"
    }
   ],
   "source": [
    "# Q5. What is inheritance? Give an example for each type of inheritance.\n",
    "# Answer:\n",
    "# Inheritence: Inheritance is a mechanism in which one class acquires the property of another class.\n",
    "# For example:\n",
    "# (1.)\n",
    "class class1:\n",
    "    def test1(self):\n",
    "        return \"This is my class1.\"\n",
    "    \n",
    "class class2(class1):\n",
    "    def test2(self):\n",
    "        return \"This is my class2.\"\n",
    "    \n",
    "class class3(class2):\n",
    "    \n",
    "    pass\n",
    "\n",
    "p = class3()\n",
    "p.test1() # ----> This is my class1\n",
    "p.test2() # ----> This is my class2\n",
    "\n"
   ]
  },
  {
   "cell_type": "code",
   "execution_count": 12,
   "id": "54ac7ab0-8a58-4263-93d5-0acb984b5bcb",
   "metadata": {},
   "outputs": [
    {
     "data": {
      "text/plain": [
       "'This is a class2'"
      ]
     },
     "execution_count": 12,
     "metadata": {},
     "output_type": "execute_result"
    }
   ],
   "source": [
    "# (2.) Multiple Inheritence \n",
    "\n",
    "class class1:\n",
    "    \n",
    "    def test_class1(self):\n",
    "        return \"This is a class1 \"\n",
    "    \n",
    "class class2:\n",
    "    \n",
    "    def test_class2(self):\n",
    "        return \"This is a class2\"\n",
    "    \n",
    "class class3(class1, class2):\n",
    "    pass\n",
    "\n",
    "obj1 = class3()\n",
    "obj1.test_class1()\n",
    "obj1.test_class2()"
   ]
  }
 ],
 "metadata": {
  "kernelspec": {
   "display_name": "Python 3 (ipykernel)",
   "language": "python",
   "name": "python3"
  },
  "language_info": {
   "codemirror_mode": {
    "name": "ipython",
    "version": 3
   },
   "file_extension": ".py",
   "mimetype": "text/x-python",
   "name": "python",
   "nbconvert_exporter": "python",
   "pygments_lexer": "ipython3",
   "version": "3.10.6"
  }
 },
 "nbformat": 4,
 "nbformat_minor": 5
}
