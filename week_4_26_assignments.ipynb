{
 "cells": [
  {
   "cell_type": "code",
   "execution_count": 40,
   "id": "68596c43-96cd-46d2-941c-5f52f757e028",
   "metadata": {},
   "outputs": [
    {
     "name": "stdout",
     "output_type": "stream",
     "text": [
      "{'Maruti'} is a super car. whose max speed is  {250} and average speed is {150}\n"
     ]
    }
   ],
   "source": [
    "# Q1, Create a vehicle class with an init method having instance variables as name_of_vehicle, max_speed\n",
    "#     and average_of_vehicle. \n",
    "# Answer:\n",
    "class vehicle:\n",
    "    def __init__(self,name_of_vehicle, max_speed, average):\n",
    "        self.name_of_vehicle = name_of_vehicle\n",
    "        self.max_speed = max_speed\n",
    "        self.average = average\n",
    "        \n",
    "obj1 = vehicle(\"Maruti\", 250, 150)\n",
    "print({obj1.name_of_vehicle} ,\"is a super car.whose max speed is\",{obj1.max_speed},\"and average speed is\",{obj1.average_of_vehicle})\n",
    "        \n",
    "        \n",
    "    \n",
    "\n",
    "\n"
   ]
  },
  {
   "cell_type": "code",
   "execution_count": 39,
   "id": "42c9a228-7d33-46d8-8a40-8f31355b6274",
   "metadata": {},
   "outputs": [
    {
     "data": {
      "text/plain": [
       "5"
      ]
     },
     "execution_count": 39,
     "metadata": {},
     "output_type": "execute_result"
    }
   ],
   "source": [
    "# Q2.  Create a child class car from the vehicle class created in Que 1, which will inherit the vehicle class.\n",
    "#      Create a method named seating_capacity which takes capacity as an argument and returns the name of\n",
    "#      the vehicle and its seating capacity.\n",
    "# Answer:\n",
    "class child_car(vehicle):\n",
    "    def seating_capacity(self,capacity ):\n",
    "        return capacity\n",
    "        \n",
    "pw = child_car(\"Maruti\", 250, 150)\n",
    "pw.seating_capacity(5)\n",
    "\n",
    "\n",
    "\n"
   ]
  },
  {
   "cell_type": "code",
   "execution_count": 5,
   "id": "fa5007a1-7409-4846-89ad-e16946b586e1",
   "metadata": {},
   "outputs": [
    {
     "name": "stdout",
     "output_type": "stream",
     "text": [
      "{'This is math class'}  and  {'This is physics class'}\n"
     ]
    }
   ],
   "source": [
    "# Q3. What is multiple inheritance? Write a python code to demonstrate multiple inheritance.\n",
    "# Answer:\n",
    "# Multiple Inheritence: If a child class is inheriting the properties of a single other class,\n",
    "#                       we call it single inheritance. However, if a child class inherits from more than one class, \n",
    "#                       we call it multiple inheritence.\n",
    "# For example: \n",
    "class math:\n",
    "    \n",
    "    def class_math(self):\n",
    "        return \"This is math class\"\n",
    "    \n",
    "class physics:\n",
    "    \n",
    "    def class_physics(self):\n",
    "        return \"This is physics class\"\n",
    "    \n",
    "class combined_class(math,physics):\n",
    "    \n",
    "    pass\n",
    "\n",
    "obj1 = combined_class()\n",
    "print({obj1.class_math()},\" and \",{obj1.class_physics()})\n",
    "\n",
    "# This is multiple inheritence ."
   ]
  },
  {
   "cell_type": "code",
   "execution_count": 30,
   "id": "c79a84e0-9b94-4a3b-bef9-4b355c080930",
   "metadata": {},
   "outputs": [
    {
     "data": {
      "text/plain": [
       "40000"
      ]
     },
     "execution_count": 30,
     "metadata": {},
     "output_type": "execute_result"
    }
   ],
   "source": [
    "# Q4. What are getter and setter in python? Create a class and create a getter and a setter method in this class.\n",
    "# Answer:\n",
    "# Getter: A method that allows you to access an attribute in a given class. \n",
    "# Setter: A method that allows you to set or mutate the value of an attribute in a class.\n",
    "# For example:\n",
    "class buy_car:\n",
    "    \n",
    "    def __init__(self,car_price, car_model):\n",
    "        self._car_price = car_price\n",
    "        self.car_model = car_model\n",
    "     \n",
    "    # Getter method\n",
    "    def get_car_price(self):\n",
    "        return self._car_price\n",
    "    \n",
    "    # Setter method\n",
    "    def set_car_price(self, price):\n",
    "        self._car_price = price\n",
    "        \n",
    "        \n",
    "pw = buy_car(50000, \"suv20\")\n",
    "pw.get_car_price()  # this give output ---> 50000\n",
    "pw.set_car_price(40000)\n",
    "pw.get_car_price()  # this give output ---> 40000\n",
    "\n",
    "        \n"
   ]
  },
  {
   "cell_type": "code",
   "execution_count": 31,
   "id": "5247f5ec-3289-4c0b-a3bd-65be7dce0698",
   "metadata": {},
   "outputs": [
    {
     "name": "stdout",
     "output_type": "stream",
     "text": [
      "Inside Parent\n",
      "Inside Child\n"
     ]
    }
   ],
   "source": [
    "# Q5.What is method overriding in python? Write a python code to demonstrate method overriding.\n",
    "#Answer:\n",
    "# Method Overriding : Method overriding is a feature of object-oriented programming languages where the subclass or\n",
    "#                    child class can provide the program with specific characteristics or a specific implementation \n",
    "#                     process of data provided that are already defined in the parent class or superclass.\n",
    "# method overriding\n",
    "# Defining parent class\n",
    "class Parent():\n",
    "\t\n",
    "\t# Constructor\n",
    "\tdef __init__(self):\n",
    "\t\tself.value = \"Inside Parent\"\n",
    "\t\t\n",
    "\t# Parent's show method\n",
    "\tdef show(self):\n",
    "\t\tprint(self.value)\n",
    "\t\t\n",
    "# Defining child class\n",
    "class Child(Parent):\n",
    "\t\n",
    "\t# Constructor\n",
    "\tdef __init__(self):\n",
    "\t\tself.value = \"Inside Child\"\n",
    "\t\t\n",
    "\t# Child's show method\n",
    "\tdef show(self):\n",
    "\t\tprint(self.value)\n",
    "\t\t\n",
    "\t\t\n",
    "# Driver's code\n",
    "obj1 = Parent()\n",
    "obj2 = Child()\n",
    "\n",
    "obj1.show()\n",
    "obj2.show()\n"
   ]
  },
  {
   "cell_type": "code",
   "execution_count": null,
   "id": "86ccd8cf-c93f-4d24-9981-34fc09222123",
   "metadata": {},
   "outputs": [],
   "source": []
  }
 ],
 "metadata": {
  "kernelspec": {
   "display_name": "Python 3 (ipykernel)",
   "language": "python",
   "name": "python3"
  },
  "language_info": {
   "codemirror_mode": {
    "name": "ipython",
    "version": 3
   },
   "file_extension": ".py",
   "mimetype": "text/x-python",
   "name": "python",
   "nbconvert_exporter": "python",
   "pygments_lexer": "ipython3",
   "version": "3.10.6"
  }
 },
 "nbformat": 4,
 "nbformat_minor": 5
}
